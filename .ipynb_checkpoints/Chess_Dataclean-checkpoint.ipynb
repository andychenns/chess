{
 "cells": [
  {
   "cell_type": "code",
   "execution_count": 6,
   "metadata": {},
   "outputs": [],
   "source": [
    "import bz2\n",
    "import matplotlib.pyplot as plt\n",
    "import numpy as np\n",
    "import pandas as pd\n",
    "import math"
   ]
  },
  {
   "cell_type": "code",
   "execution_count": 7,
   "metadata": {},
   "outputs": [],
   "source": [
    "with bz2.open(\"/Users/longhaochen/Desktop/chess/data/lichess_db_standard_rated_2014-01.pgn.bz2\", \"rb\") as f:\n",
    "    data = f.read()"
   ]
  },
  {
   "cell_type": "code",
   "execution_count": 8,
   "metadata": {},
   "outputs": [
    {
     "name": "stdout",
     "output_type": "stream",
     "text": [
      "Game at 0th index: b'\n",
      "CPU times: user 3.48 s, sys: 804 ms, total: 4.28 s\n",
      "Wall time: 4.61 s\n"
     ]
    }
   ],
   "source": [
    "%%time\n",
    "data = str(data) # Convert binary data into string for easier functionality\n",
    "raw_games = data.split('[Event') # Split the data into chess games using the '[Event' string\n",
    "print(\"Game at 0th index: %s\" % raw_games[0])\n",
    "del raw_games[0] # The first index isn't a game\n",
    "del data # Remove binary string to save memory"
   ]
  },
  {
   "cell_type": "code",
   "execution_count": 25,
   "metadata": {},
   "outputs": [
    {
     "name": "stdout",
     "output_type": "stream",
     "text": [
      "Sample normal game:  \"Rated Bullet game\"]\\n[Site \"https://lichess.org/yd5d4l9a\"]\\n[White \"claudiomat\"]\\n[Black \"MisterBiggStuff\"]\\n[Result \"0-1\"]\\n[UTCDate \"2013.12.31\"]\\n[UTCTime \"23:00:14\"]\\n[WhiteElo \"1711\"]\\n[BlackElo \"2035\"]\\n[WhiteRatingDiff \"-4\"]\\n[BlackRatingDiff \"+3\"]\\n[ECO \"A43\"]\\n[Opening \"Old Benoni Defense\"]\\n[TimeControl \"60+0\"]\\n[Termination \"Time forfeit\"]\\n\\n1. d4 c5 2. e3 cxd4 3. exd4 d5 4. c3 Nc6 5. f4 e5 6. Nf3 e4 7. Ne5 f6 8. Qh5+ g6 9. Nxg6 hxg6 10. Qxh8 Kf7 11. Qh7+ Bg7 12. f5 g5 13. h4 gxh4 14. Bh6 Qf8 15. Rxh4 Nxh6 16. Rxh6 Ne7 17. Rh3 Bxf5 18. Qh4 Bxh3 19. Qxh3 Qh8 20. Qd7 Qh4+ 21. Kd2 Bh6+ 22. Kc2 Qf2+ 23. Nd2 Qxd2+ 24. Kb3 e3 0-1\\n\\n\n",
      "\n",
      "Sample game with analysis attached:  \"Rated Blitz game\"]\\n[Site \"https://lichess.org/uacygub8\"]\\n[White \"VChess73\"]\\n[Black \"savinka59\"]\\n[Result \"1-0\"]\\n[UTCDate \"2013.12.31\"]\\n[UTCTime \"23:02:35\"]\\n[WhiteElo \"1832\"]\\n[BlackElo \"1757\"]\\n[WhiteRatingDiff \"+9\"]\\n[BlackRatingDiff \"-9\"]\\n[ECO \"D32\"]\\n[Opening \"Tarrasch Defense: Symmetrical Variation\"]\\n[TimeControl \"360+0\"]\\n[Termination \"Normal\"]\\n\\n1. d4 { [%eval 0.34] } 1... d5 { [%eval 0.44] } 2. c4 { [%eval 0.44] } 2... e6 { [%eval 0.44] } 3. Nf3 { [%eval 0.38] } 3... c5 { [%eval 0.32] } 4. e3 { [%eval 0.14] } 4... Nc6 { [%eval 0.14] } 5. Nc3 { [%eval 0.14] } 5... Nf6 { [%eval 0.14] } 6. Bd3 { [%eval 0.1] } 6... Be7 { [%eval 0.1] } 7. O-O { [%eval 0.1] } 7... O-O { [%eval 0.14] } 8. a3 { [%eval -0.06] } 8... Rfe8 { [%eval 0.4] } 9. dxc5 { [%eval 0.46] } 9... Bxc5 { [%eval 0.34] } 10. b4 { [%eval 0.5] } 10... Bb6 { [%eval 0.8] } 11. c5?! { [%eval 0.12] } 11... Bc7 { [%eval 0.0] } 12. Bc2 { [%eval -0.2] } 12... e5 { [%eval -0.12] } 13. Bb2?! { [%eval -1.07] } 13... Bg4? { [%eval 0.42] } 14. Qb1?! { [%eval -0.38] } 14... Bxf3?! { [%eval 0.36] } 15. gxf3 { [%eval 0.0] } 15... g6?! { [%eval 0.62] } 16. e4? { [%eval -0.54] } 16... d4 { [%eval -0.6] } 17. Nb5? { [%eval -1.69] } 17... a6? { [%eval -0.48] } 18. Nxc7 { [%eval -0.52] } 18... Qxc7 { [%eval -0.76] } 19. Bd3 { [%eval -0.94] } 19... Qd7 { [%eval -1.05] } 20. Qd1 { [%eval -1.05] } 20... Qh3 { [%eval -1.29] } 21. Kh1 { [%eval -1.37] } 21... Nh5 { [%eval -1.17] } 22. Rfg1 { [%eval -1.09] } 22... Nf4 { [%eval -1.11] } 23. Rg3 { [%eval -1.05] } 23... Qh5 { [%eval -1.03] } 24. Bc1 { [%eval -0.78] } 24... Nxd3?! { [%eval 0.0] } 25. Qxd3 { [%eval 0.0] } 25... Kg7?! { [%eval 0.72] } 26. Bd2? { [%eval -0.62] } 26... h6? { [%eval 0.44] } 27. Rag1?! { [%eval -0.32] } 27... g5?? { [%eval 4.32] } 28. Bxg5 { [%eval 4.3] } 1-0\\n\\n\n",
      "\n"
     ]
    }
   ],
   "source": [
    "analysis_games = 0\n",
    "empty_games = 0\n",
    "\n",
    "print(\"Sample normal game: %s\\n\" % raw_games[0])\n",
    "for game in raw_games:\n",
    "    if game.find('eval') != -1:\n",
    "        if analysis_games == 0:\n",
    "            print(\"Sample game with analysis attached: %s\\n\" % game)\n",
    "        analysis_games += 1\n",
    "\n",
    "for game in raw_games:\n",
    "    if game.find('1.') == -1:\n",
    "        if empty_games == 0:\n",
    "            print(\"Sample empty game: %s\" % game)\n",
    "        empty_games += 1"
   ]
  },
  {
   "cell_type": "code",
   "execution_count": 22,
   "metadata": {},
   "outputs": [
    {
     "name": "stdout",
     "output_type": "stream",
     "text": [
      "Sample normal game:  \"Rated Bullet game\"]\\n[Site \"https://lichess.org/yd5d4l9a\"]\\n[White \"claudiomat\"]\\n[Black \"MisterBiggStuff\"]\\n[Result \"0-1\"]\\n[UTCDate \"2013.12.31\"]\\n[UTCTime \"23:00:14\"]\\n[WhiteElo \"1711\"]\\n[BlackElo \"2035\"]\\n[WhiteRatingDiff \"-4\"]\\n[BlackRatingDiff \"+3\"]\\n[ECO \"A43\"]\\n[Opening \"Old Benoni Defense\"]\\n[TimeControl \"60+0\"]\\n[Termination \"Time forfeit\"]\\n\\n1. d4 c5 2. e3 cxd4 3. exd4 d5 4. c3 Nc6 5. f4 e5 6. Nf3 e4 7. Ne5 f6 8. Qh5+ g6 9. Nxg6 hxg6 10. Qxh8 Kf7 11. Qh7+ Bg7 12. f5 g5 13. h4 gxh4 14. Bh6 Qf8 15. Rxh4 Nxh6 16. Rxh6 Ne7 17. Rh3 Bxf5 18. Qh4 Bxh3 19. Qxh3 Qh8 20. Qd7 Qh4+ 21. Kd2 Bh6+ 22. Kc2 Qf2+ 23. Nd2 Qxd2+ 24. Kb3 e3 0-1\\n\\n\n",
      "\n",
      "Sample game with analysis attached:  \"Rated Bullet game\"]\\n[Site \"https://lichess.org/ulpcm79x\"]\\n[White \"journal\"]\\n[Black \"Kiriush33\"]\\n[Result \"1-0\"]\\n[UTCDate \"2013.12.31\"]\\n[UTCTime \"23:00:20\"]\\n[WhiteElo \"1691\"]\\n[BlackElo \"1717\"]\\n[WhiteRatingDiff \"+13\"]\\n[BlackRatingDiff \"-12\"]\\n[ECO \"C20\"]\\n[Opening \"King\\'s Pawn Game: Leonardis Variation\"]\\n[TimeControl \"60+0\"]\\n[Termination \"Time forfeit\"]\\n\\n1. e4 e5 2. d3 Nf6 3. Nf3 d5 4. Nc3 Nc6 5. exd5 Nxd5 6. Nxd5 Qxd5 7. c4 Bb4+ 8. Bd2 Bxd2+ 9. Qxd2 Qd7 10. Be2 Qd6 11. O-O Bf5 12. Rfe1 O-O-O 13. b3 f6 14. Qe3 Bxd3 15. Bxd3 Qxd3 16. Qxd3 Rxd3 17. Nh4 Rhd8 18. Nf5 Rd8d7 19. Kh1 Nb4 20. Rec1 Rd3d2 21. a3 Nd3 22. Rcd1 Nxf2+ 23. Kg1 Nxd1 24. h3 Nc3 25. Rf1 Ne4 26. b4 Rd2d1 27. Ne7+ Rxe7 28. Rxd1 Rd7 29. Rxd7 1-0\\n\\n\n",
      "\n"
     ]
    }
   ],
   "source": [
    "rated_games = 0\n",
    "\n",
    "print(\"Sample normal game: %s\\n\" % raw_games[0])\n",
    "for game in raw_games:\n",
    "    if game.find('1-0') != -1:\n",
    "        if rated_games == 0:\n",
    "            print(\"Sample game with analysis attached: %s\\n\" % game)\n",
    "        rated_games += 1\n",
    "\n"
   ]
  },
  {
   "cell_type": "code",
   "execution_count": 24,
   "metadata": {},
   "outputs": [
    {
     "data": {
      "text/plain": [
       "356647"
      ]
     },
     "execution_count": 24,
     "metadata": {},
     "output_type": "execute_result"
    }
   ],
   "source": [
    "rated_games"
   ]
  },
  {
   "cell_type": "code",
   "execution_count": 17,
   "metadata": {},
   "outputs": [
    {
     "name": "stdout",
     "output_type": "stream",
     "text": [
      "Number of total games: 697600\n",
      "Number of normal games: 666626\n",
      "Number of games with eval attached: 30974\n",
      "Number of empty games: 0\n"
     ]
    },
    {
     "data": {
      "image/png": "[encoded data removed]",
      "text/plain": [
       "<Figure size 864x576 with 1 Axes>"
      ]
     },
     "metadata": {},
     "output_type": "display_data"
    }
   ],
   "source": [
    "normal_games = len(raw_games)-analysis_games-empty_games\n",
    "\n",
    "print(\"Number of total games: %d\" % len(raw_games))\n",
    "print(\"Number of normal games: %d\" % normal_games)\n",
    "print(\"Number of games with eval attached: %d\" % analysis_games)\n",
    "print(\"Number of empty games: %d\" % empty_games)\n",
    "\n",
    "explode = [0, 0.1, 0]\n",
    "plt.figure(figsize=(12, 8))\n",
    "labels = ['Normal', 'Analysis', 'Empty']\n",
    "pie_data = [normal_games/len(raw_games), analysis_games/len(raw_games), empty_games/len(raw_games)]\n",
    "plt.pie(pie_data, labels=labels, autopct='%1.2f%%', shadow=True, explode=explode, textprops={'fontsize': 14})\n",
    "plt.show()"
   ]
  },
  {
   "cell_type": "markdown",
   "metadata": {},
   "source": [
    "empty_games"
   ]
  },
  {
   "cell_type": "code",
   "execution_count": 16,
   "metadata": {},
   "outputs": [
    {
     "name": "stdout",
     "output_type": "stream",
     "text": [
      "0\n"
     ]
    }
   ],
   "source": [
    "print(empty_games)"
   ]
  }
 ],
 "metadata": {
  "kernelspec": {
   "display_name": "Python 3",
   "language": "python",
   "name": "python3"
  },
  "language_info": {
   "codemirror_mode": {
    "name": "ipython",
    "version": 3
   },
   "file_extension": ".py",
   "mimetype": "text/x-python",
   "name": "python",
   "nbconvert_exporter": "python",
   "pygments_lexer": "ipython3",
   "version": "3.7.4"
  }
 },
 "nbformat": 4,
 "nbformat_minor": 2
}
