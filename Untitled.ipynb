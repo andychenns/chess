{
 "cells": [
  {
   "cell_type": "code",
   "execution_count": 1,
   "metadata": {},
   "outputs": [],
   "source": [
    "import pandas as pd\n",
    "import numpy as np\n",
    "import re\n",
    "import chess.pgn\n",
    "import io\n"
   ]
  },
  {
   "cell_type": "code",
   "execution_count": 3,
   "metadata": {},
   "outputs": [],
   "source": [
    "#Load CSV file\n",
    "df = pd.read_csv (r'/Users/longhaochen/chess/chess/data/lichess-04-2017.csv')\n",
    "\n",
    "df.PGN = df.PGN.astype(str)"
   ]
  },
  {
   "cell_type": "code",
   "execution_count": 4,
   "metadata": {},
   "outputs": [],
   "source": [
    "#Rename colume name for first column\n",
    "df = df.rename(columns={\"Unnamed: 0\": \"ID\"})"
   ]
  },
  {
   "cell_type": "code",
   "execution_count": 5,
   "metadata": {},
   "outputs": [],
   "source": [
    "#Filter data by PGN game that contains clk the clock time\n",
    "df = df[df['PGN'].str.contains(\"clk\")]"
   ]
  },
  {
   "cell_type": "code",
   "execution_count": 6,
   "metadata": {},
   "outputs": [],
   "source": [
    "#Keep only ID and PGN\n",
    "df = df[['ID','PGN']]"
   ]
  },
  {
   "cell_type": "code",
   "execution_count": 7,
   "metadata": {},
   "outputs": [],
   "source": [
    "pgn = io.StringIO(df['PGN'][1])\n",
    "game = chess.pgn.read_game(pgn)"
   ]
  },
  {
   "cell_type": "code",
   "execution_count": 9,
   "metadata": {},
   "outputs": [
    {
     "name": "stdout",
     "output_type": "stream",
     "text": [
      "[Event \"?\"]\n",
      "[Site \"?\"]\n",
      "[Date \"????.??.??\"]\n",
      "[Round \"?\"]\n",
      "[White \"?\"]\n",
      "[Black \"?\"]\n",
      "[Result \"*\"]\n",
      "\n",
      "1. d4 { [%eval 0.12] [%clk 0:05:00] } 1... d5 { [%eval 0.15] [%clk 0:05:00] } 2. Bf4 { [%eval 0.07] [%clk 0:04:58] } 2... Bf5 { [%eval 0.06] [%clk 0:04:58] } 3. e3 { [%eval 0.06] [%clk 0:04:57] } 3... e6 { [%eval 0.08] [%clk 0:04:56] } 4. c3 { [%eval -0.01] [%clk 0:04:53] } 4... Nf6 { [%eval 0.01] [%clk 0:04:54] } 5. Bd3 { [%eval 0.0] [%clk 0:04:51] } 5... Bxd3 { [%eval 0.02] [%clk 0:04:53] } 6. Qxd3 { [%eval -0.01] [%clk 0:04:49] } 6... Be7 { [%eval 0.0] [%clk 0:04:41] } 7. Nd2 { [%eval 0.0] [%clk 0:04:42] } 7... O-O { [%eval 0.05] [%clk 0:04:39] } 8. Ngf3 { [%eval 0.02] [%clk 0:04:40] } 8... c5 { [%eval 0.01] [%clk 0:04:34] } 9. c4 { [%eval -0.3] [%clk 0:04:31] } 9... Nc6 { [%eval -0.07] [%clk 0:04:04] } 10. b3 $6 { [%eval -0.96] [%clk 0:04:03] } 10... Qb6 $6 { [%eval -0.15] [%clk 0:03:26] } 11. dxc5 { [%eval -0.61] [%clk 0:03:23] } 11... Bxc5 { [%eval -0.27] [%clk 0:03:22] } 12. O-O { [%eval -0.28] [%clk 0:03:20] } 12... Nb4 { [%eval 0.04] [%clk 0:02:53] } 13. Qc3 { [%eval -0.12] [%clk 0:02:53] } 13... Rac8 { [%eval 0.14] [%clk 0:02:43] } 14. a3 { [%eval 0.0] [%clk 0:02:44] } 14... Nc6 { [%eval -0.02] [%clk 0:02:27] } 15. b4 { [%eval 0.06] [%clk 0:02:43] } 15... Be7 { [%eval 0.04] [%clk 0:02:20] } 16. c5 { [%eval 0.02] [%clk 0:02:39] } 16... Qa6 { [%eval 0.49] [%clk 0:01:58] } 17. Rab1 { [%eval 0.28] [%clk 0:02:31] } 17... b5 { [%eval 0.48] [%clk 0:01:45] } 18. Rfe1 { [%eval 0.29] [%clk 0:02:15] } 18... Rfd8 { [%eval 0.4] [%clk 0:01:29] } 19. Nd4 { [%eval 0.44] [%clk 0:02:10] } 19... Ne4 { [%eval 0.48] [%clk 0:01:14] } 20. Nxe4 { [%eval 0.45] [%clk 0:02:01] } 20... dxe4 { [%eval 0.43] [%clk 0:01:14] } 21. Nxc6 { [%eval 0.39] [%clk 0:01:59] } 21... Qxc6 { [%eval 0.36] [%clk 0:01:09] } 22. Qe5 $6 { [%eval -0.59] [%clk 0:01:45] } 22... Rd5 $6 { [%eval 0.0] [%clk 0:00:51] } 23. Qc3 { [%eval -0.48] [%clk 0:01:26] } 23... Bf6 { [%eval -0.46] [%clk 0:00:49] } 24. Qc2 { [%eval -0.54] [%clk 0:01:10] } 24... Rcd8 { [%eval -0.19] [%clk 0:00:39] } 25. Bd6 $4 { [%eval -4.58] [%clk 0:01:00] } 25... R5xd6 { [%eval -4.32] [%clk 0:00:36] } 26. cxd6 $4 { [%eval -11.72] [%clk 0:00:56] } 26... Qxc2 { [%eval -11.68] [%clk 0:00:35] } 27. Rbc1 { [%eval -11.69] [%clk 0:00:50] } 27... Qb2 { [%eval -11.38] [%clk 0:00:30] } 28. d7 { [%eval -11.99] [%clk 0:00:45] } 28... g6 { [%eval -11.87] [%clk 0:00:28] } 29. Rc8 { [%eval -12.25] [%clk 0:00:42] } 29... Qd2 { [%eval -11.74] [%clk 0:00:21] } 30. Rec1 { [%eval -12.44] [%clk 0:00:38] } 30... Kg7 { [%eval -11.96] [%clk 0:00:19] } 31. h3 { [%eval -12.57] [%clk 0:00:31] } 31... Rxd7 { [%eval -12.49] [%clk 0:00:16] } 32. R8c5 { [%eval -17.39] [%clk 0:00:18] } 32... Rd5 { [%eval -12.33] [%clk 0:00:14] } 33. Rc7 { [%eval -72.14] [%clk 0:00:13] } 33... Be5 { [%eval -22.14] [%clk 0:00:13] } 34. R1c2 $6 { [%eval #-1] [%clk 0:00:07] } 34... Qd1# { [%clk 0:00:12] } *\n"
     ]
    }
   ],
   "source": [
    "print(game)"
   ]
  },
  {
   "cell_type": "code",
   "execution_count": 10,
   "metadata": {},
   "outputs": [
    {
     "data": {
      "text/plain": [
       "chess.pgn.Game"
      ]
     },
     "execution_count": 10,
     "metadata": {},
     "output_type": "execute_result"
    }
   ],
   "source": [
    "type(game)"
   ]
  }
 ],
 "metadata": {
  "kernelspec": {
   "display_name": "Python 3",
   "language": "python",
   "name": "python3"
  },
  "language_info": {
   "codemirror_mode": {
    "name": "ipython",
    "version": 3
   },
   "file_extension": ".py",
   "mimetype": "text/x-python",
   "name": "python",
   "nbconvert_exporter": "python",
   "pygments_lexer": "ipython3",
   "version": "3.7.4"
  }
 },
 "nbformat": 4,
 "nbformat_minor": 2
}
